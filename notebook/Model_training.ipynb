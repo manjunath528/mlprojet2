{
 "cells": [
  {
   "cell_type": "markdown",
   "id": "d16634b7",
   "metadata": {},
   "source": [
    "## 4. Model Evaluation"
   ]
  },
  {
   "cell_type": "code",
   "execution_count": 3,
   "id": "099999dc",
   "metadata": {},
   "outputs": [],
   "source": [
    "import numpy as np\n",
    "import matplotlib.pyplot as plt\n",
    "import seaborn as sns\n",
    "import pandas as pd\n",
    "from sklearn.datasets import make_classification\n",
    "from sklearn.model_selection import train_test_split\n",
    "from sklearn.metrics import accuracy_score, classification_report\n",
    "from sklearn.linear_model import LogisticRegression\n",
    "from sklearn.tree import DecisionTreeClassifier\n",
    "from sklearn.ensemble import RandomForestClassifier, AdaBoostClassifier\n",
    "from sklearn.svm import SVC\n",
    "from sklearn.neighbors import KNeighborsClassifier\n",
    "from sklearn.metrics import r2_score, mean_absolute_error, mean_squared_error"
   ]
  },
  {
   "cell_type": "code",
   "execution_count": 15,
   "id": "cdb40b93",
   "metadata": {},
   "outputs": [],
   "source": [
    "df = pd.read_csv('/Users/manjunathreddy/Desktop/mlproject3/notebook/data/cleaned_df.csv')"
   ]
  },
  {
   "cell_type": "code",
   "execution_count": 16,
   "id": "509a91cc",
   "metadata": {},
   "outputs": [
    {
     "data": {
      "text/html": [
       "<div>\n",
       "<style scoped>\n",
       "    .dataframe tbody tr th:only-of-type {\n",
       "        vertical-align: middle;\n",
       "    }\n",
       "\n",
       "    .dataframe tbody tr th {\n",
       "        vertical-align: top;\n",
       "    }\n",
       "\n",
       "    .dataframe thead th {\n",
       "        text-align: right;\n",
       "    }\n",
       "</style>\n",
       "<table border=\"1\" class=\"dataframe\">\n",
       "  <thead>\n",
       "    <tr style=\"text-align: right;\">\n",
       "      <th></th>\n",
       "      <th>Unnamed: 0</th>\n",
       "      <th>age</th>\n",
       "      <th>gender</th>\n",
       "      <th>locality</th>\n",
       "      <th>type_of_admission</th>\n",
       "      <th>tl_count</th>\n",
       "      <th>platelet_count</th>\n",
       "      <th>hb_count</th>\n",
       "      <th>glucose</th>\n",
       "      <th>alypical_chest_pain</th>\n",
       "      <th>assistance_needed</th>\n",
       "    </tr>\n",
       "  </thead>\n",
       "  <tbody>\n",
       "    <tr>\n",
       "      <th>0</th>\n",
       "      <td>0</td>\n",
       "      <td>81</td>\n",
       "      <td>M</td>\n",
       "      <td>R</td>\n",
       "      <td>E</td>\n",
       "      <td>16.1</td>\n",
       "      <td>337.0</td>\n",
       "      <td>9.5</td>\n",
       "      <td>80.0</td>\n",
       "      <td>False</td>\n",
       "      <td>Yes</td>\n",
       "    </tr>\n",
       "    <tr>\n",
       "      <th>1</th>\n",
       "      <td>1</td>\n",
       "      <td>65</td>\n",
       "      <td>M</td>\n",
       "      <td>R</td>\n",
       "      <td>E</td>\n",
       "      <td>9.0</td>\n",
       "      <td>149.0</td>\n",
       "      <td>13.7</td>\n",
       "      <td>112.0</td>\n",
       "      <td>False</td>\n",
       "      <td>No</td>\n",
       "    </tr>\n",
       "    <tr>\n",
       "      <th>2</th>\n",
       "      <td>2</td>\n",
       "      <td>53</td>\n",
       "      <td>M</td>\n",
       "      <td>U</td>\n",
       "      <td>E</td>\n",
       "      <td>14.7</td>\n",
       "      <td>329.0</td>\n",
       "      <td>10.6</td>\n",
       "      <td>187.0</td>\n",
       "      <td>False</td>\n",
       "      <td>Yes</td>\n",
       "    </tr>\n",
       "    <tr>\n",
       "      <th>3</th>\n",
       "      <td>3</td>\n",
       "      <td>67</td>\n",
       "      <td>F</td>\n",
       "      <td>U</td>\n",
       "      <td>E</td>\n",
       "      <td>9.9</td>\n",
       "      <td>286.0</td>\n",
       "      <td>12.8</td>\n",
       "      <td>130.0</td>\n",
       "      <td>False</td>\n",
       "      <td>No</td>\n",
       "    </tr>\n",
       "    <tr>\n",
       "      <th>4</th>\n",
       "      <td>4</td>\n",
       "      <td>60</td>\n",
       "      <td>F</td>\n",
       "      <td>U</td>\n",
       "      <td>E</td>\n",
       "      <td>9.1</td>\n",
       "      <td>26.0</td>\n",
       "      <td>13.6</td>\n",
       "      <td>144.0</td>\n",
       "      <td>False</td>\n",
       "      <td>No</td>\n",
       "    </tr>\n",
       "  </tbody>\n",
       "</table>\n",
       "</div>"
      ],
      "text/plain": [
       "   Unnamed: 0  age gender locality type_of_admission  tl_count  \\\n",
       "0           0   81      M        R                 E      16.1   \n",
       "1           1   65      M        R                 E       9.0   \n",
       "2           2   53      M        U                 E      14.7   \n",
       "3           3   67      F        U                 E       9.9   \n",
       "4           4   60      F        U                 E       9.1   \n",
       "\n",
       "   platelet_count  hb_count  glucose  alypical_chest_pain assistance_needed  \n",
       "0           337.0       9.5     80.0                False               Yes  \n",
       "1           149.0      13.7    112.0                False                No  \n",
       "2           329.0      10.6    187.0                False               Yes  \n",
       "3           286.0      12.8    130.0                False                No  \n",
       "4            26.0      13.6    144.0                False                No  "
      ]
     },
     "execution_count": 16,
     "metadata": {},
     "output_type": "execute_result"
    }
   ],
   "source": [
    "df.head()"
   ]
  },
  {
   "cell_type": "code",
   "execution_count": 8,
   "id": "2d307022",
   "metadata": {},
   "outputs": [
    {
     "data": {
      "text/plain": [
       "(11477, 11)"
      ]
     },
     "execution_count": 8,
     "metadata": {},
     "output_type": "execute_result"
    }
   ],
   "source": [
    "df.shape"
   ]
  },
  {
   "cell_type": "code",
   "execution_count": 17,
   "id": "e9b91e55",
   "metadata": {},
   "outputs": [],
   "source": [
    "df = df.drop(df.columns[[0]], axis=1)"
   ]
  },
  {
   "cell_type": "code",
   "execution_count": 18,
   "id": "35ad64a1",
   "metadata": {},
   "outputs": [
    {
     "data": {
      "text/html": [
       "<div>\n",
       "<style scoped>\n",
       "    .dataframe tbody tr th:only-of-type {\n",
       "        vertical-align: middle;\n",
       "    }\n",
       "\n",
       "    .dataframe tbody tr th {\n",
       "        vertical-align: top;\n",
       "    }\n",
       "\n",
       "    .dataframe thead th {\n",
       "        text-align: right;\n",
       "    }\n",
       "</style>\n",
       "<table border=\"1\" class=\"dataframe\">\n",
       "  <thead>\n",
       "    <tr style=\"text-align: right;\">\n",
       "      <th></th>\n",
       "      <th>age</th>\n",
       "      <th>gender</th>\n",
       "      <th>locality</th>\n",
       "      <th>type_of_admission</th>\n",
       "      <th>tl_count</th>\n",
       "      <th>platelet_count</th>\n",
       "      <th>hb_count</th>\n",
       "      <th>glucose</th>\n",
       "      <th>alypical_chest_pain</th>\n",
       "      <th>assistance_needed</th>\n",
       "    </tr>\n",
       "  </thead>\n",
       "  <tbody>\n",
       "    <tr>\n",
       "      <th>0</th>\n",
       "      <td>81</td>\n",
       "      <td>M</td>\n",
       "      <td>R</td>\n",
       "      <td>E</td>\n",
       "      <td>16.1</td>\n",
       "      <td>337.0</td>\n",
       "      <td>9.5</td>\n",
       "      <td>80.0</td>\n",
       "      <td>False</td>\n",
       "      <td>Yes</td>\n",
       "    </tr>\n",
       "    <tr>\n",
       "      <th>1</th>\n",
       "      <td>65</td>\n",
       "      <td>M</td>\n",
       "      <td>R</td>\n",
       "      <td>E</td>\n",
       "      <td>9.0</td>\n",
       "      <td>149.0</td>\n",
       "      <td>13.7</td>\n",
       "      <td>112.0</td>\n",
       "      <td>False</td>\n",
       "      <td>No</td>\n",
       "    </tr>\n",
       "    <tr>\n",
       "      <th>2</th>\n",
       "      <td>53</td>\n",
       "      <td>M</td>\n",
       "      <td>U</td>\n",
       "      <td>E</td>\n",
       "      <td>14.7</td>\n",
       "      <td>329.0</td>\n",
       "      <td>10.6</td>\n",
       "      <td>187.0</td>\n",
       "      <td>False</td>\n",
       "      <td>Yes</td>\n",
       "    </tr>\n",
       "    <tr>\n",
       "      <th>3</th>\n",
       "      <td>67</td>\n",
       "      <td>F</td>\n",
       "      <td>U</td>\n",
       "      <td>E</td>\n",
       "      <td>9.9</td>\n",
       "      <td>286.0</td>\n",
       "      <td>12.8</td>\n",
       "      <td>130.0</td>\n",
       "      <td>False</td>\n",
       "      <td>No</td>\n",
       "    </tr>\n",
       "    <tr>\n",
       "      <th>4</th>\n",
       "      <td>60</td>\n",
       "      <td>F</td>\n",
       "      <td>U</td>\n",
       "      <td>E</td>\n",
       "      <td>9.1</td>\n",
       "      <td>26.0</td>\n",
       "      <td>13.6</td>\n",
       "      <td>144.0</td>\n",
       "      <td>False</td>\n",
       "      <td>No</td>\n",
       "    </tr>\n",
       "  </tbody>\n",
       "</table>\n",
       "</div>"
      ],
      "text/plain": [
       "   age gender locality type_of_admission  tl_count  platelet_count  hb_count  \\\n",
       "0   81      M        R                 E      16.1           337.0       9.5   \n",
       "1   65      M        R                 E       9.0           149.0      13.7   \n",
       "2   53      M        U                 E      14.7           329.0      10.6   \n",
       "3   67      F        U                 E       9.9           286.0      12.8   \n",
       "4   60      F        U                 E       9.1            26.0      13.6   \n",
       "\n",
       "   glucose  alypical_chest_pain assistance_needed  \n",
       "0     80.0                False               Yes  \n",
       "1    112.0                False                No  \n",
       "2    187.0                False               Yes  \n",
       "3    130.0                False                No  \n",
       "4    144.0                False                No  "
      ]
     },
     "execution_count": 18,
     "metadata": {},
     "output_type": "execute_result"
    }
   ],
   "source": [
    "df.head()"
   ]
  },
  {
   "cell_type": "code",
   "execution_count": 19,
   "id": "38e2dd20",
   "metadata": {},
   "outputs": [
    {
     "data": {
      "text/plain": [
       "17"
      ]
     },
     "execution_count": 19,
     "metadata": {},
     "output_type": "execute_result"
    }
   ],
   "source": [
    "df.duplicated().sum()"
   ]
  },
  {
   "cell_type": "code",
   "execution_count": 20,
   "id": "87b5de16",
   "metadata": {},
   "outputs": [
    {
     "data": {
      "text/plain": [
       "age                    0\n",
       "gender                 0\n",
       "locality               0\n",
       "type_of_admission      0\n",
       "tl_count               0\n",
       "platelet_count         0\n",
       "hb_count               0\n",
       "glucose                0\n",
       "alypical_chest_pain    0\n",
       "assistance_needed      0\n",
       "dtype: int64"
      ]
     },
     "execution_count": 20,
     "metadata": {},
     "output_type": "execute_result"
    }
   ],
   "source": [
    "df.isna().sum()"
   ]
  },
  {
   "cell_type": "code",
   "execution_count": 21,
   "id": "adfe80e6",
   "metadata": {},
   "outputs": [
    {
     "data": {
      "text/plain": [
       "age                      int64\n",
       "gender                  object\n",
       "locality                object\n",
       "type_of_admission       object\n",
       "tl_count               float64\n",
       "platelet_count         float64\n",
       "hb_count               float64\n",
       "glucose                float64\n",
       "alypical_chest_pain       bool\n",
       "assistance_needed       object\n",
       "dtype: object"
      ]
     },
     "execution_count": 21,
     "metadata": {},
     "output_type": "execute_result"
    }
   ],
   "source": [
    "df.dtypes"
   ]
  },
  {
   "cell_type": "code",
   "execution_count": 22,
   "id": "d7cdbe86",
   "metadata": {},
   "outputs": [],
   "source": [
    "df['hb_count'] = pd.to_numeric(df['hb_count'],errors='coerce')\n",
    "df['tl_count'] = pd.to_numeric(df['tl_count'],errors='coerce')\n",
    "df['glucose'] = pd.to_numeric(df['glucose'],errors='coerce')\n",
    "df['platelet_count'] = pd.to_numeric(df['platelet_count'],errors='coerce')"
   ]
  },
  {
   "cell_type": "code",
   "execution_count": 23,
   "id": "d11d3456",
   "metadata": {},
   "outputs": [],
   "source": [
    "df['alypical_chest_pain'] = df['alypical_chest_pain'].astype(bool)"
   ]
  },
  {
   "cell_type": "code",
   "execution_count": 24,
   "id": "3f4b0413",
   "metadata": {},
   "outputs": [
    {
     "data": {
      "text/plain": [
       "age                    0\n",
       "gender                 0\n",
       "locality               0\n",
       "type_of_admission      0\n",
       "tl_count               0\n",
       "platelet_count         0\n",
       "hb_count               0\n",
       "glucose                0\n",
       "alypical_chest_pain    0\n",
       "assistance_needed      0\n",
       "dtype: int64"
      ]
     },
     "execution_count": 24,
     "metadata": {},
     "output_type": "execute_result"
    }
   ],
   "source": [
    "df.isna().sum()"
   ]
  },
  {
   "cell_type": "code",
   "execution_count": 25,
   "id": "7ae059d6",
   "metadata": {},
   "outputs": [
    {
     "data": {
      "text/plain": [
       "age                     65\n",
       "gender                   2\n",
       "locality                 2\n",
       "type_of_admission        2\n",
       "tl_count               229\n",
       "platelet_count         456\n",
       "hb_count               140\n",
       "glucose                306\n",
       "alypical_chest_pain      2\n",
       "assistance_needed        2\n",
       "dtype: int64"
      ]
     },
     "execution_count": 25,
     "metadata": {},
     "output_type": "execute_result"
    }
   ],
   "source": [
    "df.nunique()"
   ]
  },
  {
   "cell_type": "code",
   "execution_count": 26,
   "id": "432de74d",
   "metadata": {},
   "outputs": [],
   "source": [
    "numeric_columns = df.select_dtypes(include=['number'])"
   ]
  },
  {
   "cell_type": "code",
   "execution_count": 27,
   "id": "be089274",
   "metadata": {},
   "outputs": [],
   "source": [
    "Q1 = numeric_columns.quantile(0.25)\n",
    "Q3 = numeric_columns.quantile(0.75)\n",
    "threshold_multiplier = 1.5"
   ]
  },
  {
   "cell_type": "code",
   "execution_count": 28,
   "id": "7035961e",
   "metadata": {},
   "outputs": [],
   "source": [
    "IQR = Q3-Q1"
   ]
  },
  {
   "cell_type": "code",
   "execution_count": 29,
   "id": "4af2669d",
   "metadata": {},
   "outputs": [],
   "source": [
    "lower_bound = Q1 - threshold_multiplier * IQR\n",
    "upper_bound = Q3 + threshold_multiplier * IQR"
   ]
  },
  {
   "cell_type": "code",
   "execution_count": 30,
   "id": "501dbec3",
   "metadata": {},
   "outputs": [],
   "source": [
    "outliers = ((numeric_columns < lower_bound) | (numeric_columns > upper_bound)).any(axis=1)"
   ]
  },
  {
   "cell_type": "code",
   "execution_count": 31,
   "id": "7751a57d",
   "metadata": {},
   "outputs": [],
   "source": [
    "cleaned_df = df[~outliers]"
   ]
  },
  {
   "cell_type": "code",
   "execution_count": 32,
   "id": "586b5596",
   "metadata": {},
   "outputs": [
    {
     "data": {
      "text/html": [
       "<div>\n",
       "<style scoped>\n",
       "    .dataframe tbody tr th:only-of-type {\n",
       "        vertical-align: middle;\n",
       "    }\n",
       "\n",
       "    .dataframe tbody tr th {\n",
       "        vertical-align: top;\n",
       "    }\n",
       "\n",
       "    .dataframe thead th {\n",
       "        text-align: right;\n",
       "    }\n",
       "</style>\n",
       "<table border=\"1\" class=\"dataframe\">\n",
       "  <thead>\n",
       "    <tr style=\"text-align: right;\">\n",
       "      <th></th>\n",
       "      <th>age</th>\n",
       "      <th>gender</th>\n",
       "      <th>locality</th>\n",
       "      <th>type_of_admission</th>\n",
       "      <th>tl_count</th>\n",
       "      <th>platelet_count</th>\n",
       "      <th>hb_count</th>\n",
       "      <th>glucose</th>\n",
       "      <th>alypical_chest_pain</th>\n",
       "      <th>assistance_needed</th>\n",
       "    </tr>\n",
       "  </thead>\n",
       "  <tbody>\n",
       "    <tr>\n",
       "      <th>0</th>\n",
       "      <td>81</td>\n",
       "      <td>M</td>\n",
       "      <td>R</td>\n",
       "      <td>E</td>\n",
       "      <td>16.1</td>\n",
       "      <td>337.0</td>\n",
       "      <td>9.5</td>\n",
       "      <td>80.0</td>\n",
       "      <td>False</td>\n",
       "      <td>Yes</td>\n",
       "    </tr>\n",
       "    <tr>\n",
       "      <th>1</th>\n",
       "      <td>65</td>\n",
       "      <td>M</td>\n",
       "      <td>R</td>\n",
       "      <td>E</td>\n",
       "      <td>9.0</td>\n",
       "      <td>149.0</td>\n",
       "      <td>13.7</td>\n",
       "      <td>112.0</td>\n",
       "      <td>False</td>\n",
       "      <td>No</td>\n",
       "    </tr>\n",
       "    <tr>\n",
       "      <th>2</th>\n",
       "      <td>53</td>\n",
       "      <td>M</td>\n",
       "      <td>U</td>\n",
       "      <td>E</td>\n",
       "      <td>14.7</td>\n",
       "      <td>329.0</td>\n",
       "      <td>10.6</td>\n",
       "      <td>187.0</td>\n",
       "      <td>False</td>\n",
       "      <td>Yes</td>\n",
       "    </tr>\n",
       "    <tr>\n",
       "      <th>3</th>\n",
       "      <td>67</td>\n",
       "      <td>F</td>\n",
       "      <td>U</td>\n",
       "      <td>E</td>\n",
       "      <td>9.9</td>\n",
       "      <td>286.0</td>\n",
       "      <td>12.8</td>\n",
       "      <td>130.0</td>\n",
       "      <td>False</td>\n",
       "      <td>No</td>\n",
       "    </tr>\n",
       "    <tr>\n",
       "      <th>4</th>\n",
       "      <td>60</td>\n",
       "      <td>F</td>\n",
       "      <td>U</td>\n",
       "      <td>E</td>\n",
       "      <td>9.1</td>\n",
       "      <td>26.0</td>\n",
       "      <td>13.6</td>\n",
       "      <td>144.0</td>\n",
       "      <td>False</td>\n",
       "      <td>No</td>\n",
       "    </tr>\n",
       "  </tbody>\n",
       "</table>\n",
       "</div>"
      ],
      "text/plain": [
       "   age gender locality type_of_admission  tl_count  platelet_count  hb_count  \\\n",
       "0   81      M        R                 E      16.1           337.0       9.5   \n",
       "1   65      M        R                 E       9.0           149.0      13.7   \n",
       "2   53      M        U                 E      14.7           329.0      10.6   \n",
       "3   67      F        U                 E       9.9           286.0      12.8   \n",
       "4   60      F        U                 E       9.1            26.0      13.6   \n",
       "\n",
       "   glucose  alypical_chest_pain assistance_needed  \n",
       "0     80.0                False               Yes  \n",
       "1    112.0                False                No  \n",
       "2    187.0                False               Yes  \n",
       "3    130.0                False                No  \n",
       "4    144.0                False                No  "
      ]
     },
     "execution_count": 32,
     "metadata": {},
     "output_type": "execute_result"
    }
   ],
   "source": [
    "cleaned_df.head()"
   ]
  },
  {
   "cell_type": "markdown",
   "id": "1fc5ef97",
   "metadata": {},
   "source": [
    "### 4.1 Standardization of Dataset"
   ]
  },
  {
   "cell_type": "code",
   "execution_count": 33,
   "id": "6a85e1ab",
   "metadata": {},
   "outputs": [],
   "source": [
    "from sklearn.preprocessing import OrdinalEncoder, StandardScaler\n",
    "cat_transform = OrdinalEncoder()"
   ]
  },
  {
   "cell_type": "code",
   "execution_count": 34,
   "id": "47828248",
   "metadata": {},
   "outputs": [],
   "source": [
    "numeric_features = cleaned_df.select_dtypes(include=['float64', 'int64']).columns"
   ]
  },
  {
   "cell_type": "code",
   "execution_count": 35,
   "id": "46574403",
   "metadata": {},
   "outputs": [],
   "source": [
    "categorical_features = cleaned_df.select_dtypes(include=['object','bool']).columns"
   ]
  },
  {
   "cell_type": "code",
   "execution_count": 36,
   "id": "ad0fdf6c",
   "metadata": {},
   "outputs": [
    {
     "data": {
      "text/plain": [
       "Index(['age', 'tl_count', 'platelet_count', 'hb_count', 'glucose'], dtype='object')"
      ]
     },
     "execution_count": 36,
     "metadata": {},
     "output_type": "execute_result"
    }
   ],
   "source": [
    "numeric_features"
   ]
  },
  {
   "cell_type": "code",
   "execution_count": 37,
   "id": "be2a79c9",
   "metadata": {},
   "outputs": [
    {
     "data": {
      "text/plain": [
       "Index(['gender', 'locality', 'type_of_admission', 'alypical_chest_pain',\n",
       "       'assistance_needed'],\n",
       "      dtype='object')"
      ]
     },
     "execution_count": 37,
     "metadata": {},
     "output_type": "execute_result"
    }
   ],
   "source": [
    "categorical_features"
   ]
  },
  {
   "cell_type": "code",
   "execution_count": 38,
   "id": "091510ab",
   "metadata": {},
   "outputs": [
    {
     "name": "stderr",
     "output_type": "stream",
     "text": [
      "/var/folders/pn/7648xrwx1vv3z18g2n8dmck80000gn/T/ipykernel_76479/2770928765.py:1: SettingWithCopyWarning: \n",
      "A value is trying to be set on a copy of a slice from a DataFrame.\n",
      "Try using .loc[row_indexer,col_indexer] = value instead\n",
      "\n",
      "See the caveats in the documentation: https://pandas.pydata.org/pandas-docs/stable/user_guide/indexing.html#returning-a-view-versus-a-copy\n",
      "  cleaned_df[categorical_features] = cat_transform.fit_transform(cleaned_df[categorical_features])\n"
     ]
    }
   ],
   "source": [
    "cleaned_df[categorical_features] = cat_transform.fit_transform(cleaned_df[categorical_features])"
   ]
  },
  {
   "cell_type": "markdown",
   "id": "cb7888d8",
   "metadata": {},
   "source": [
    "- We have transformed our data into the standard form\n",
    "#### Categorical Features  \n",
    "- gender(M/F) = gender(1.0/0.0)\n",
    "- locality(R/U) = locality(0.0/1.0),\n",
    "- type_of_admission(E/O) = type_of_admission(0.0/1.0)\n",
    "- alypical_chest_pain(False/True) = alypical_chest_pain(0.0/1.0)\n"
   ]
  },
  {
   "cell_type": "code",
   "execution_count": 39,
   "id": "8c8f4089",
   "metadata": {},
   "outputs": [
    {
     "data": {
      "text/plain": [
       "age                    0\n",
       "gender                 0\n",
       "locality               0\n",
       "type_of_admission      0\n",
       "tl_count               0\n",
       "platelet_count         0\n",
       "hb_count               0\n",
       "glucose                0\n",
       "alypical_chest_pain    0\n",
       "assistance_needed      0\n",
       "dtype: int64"
      ]
     },
     "execution_count": 39,
     "metadata": {},
     "output_type": "execute_result"
    }
   ],
   "source": [
    "cleaned_df.isnull().sum()"
   ]
  },
  {
   "cell_type": "markdown",
   "id": "0dae99c5",
   "metadata": {},
   "source": [
    "### 4.2 Spliting of the Data "
   ]
  },
  {
   "cell_type": "code",
   "execution_count": 40,
   "id": "10a976f2",
   "metadata": {},
   "outputs": [
    {
     "data": {
      "text/html": [
       "<div>\n",
       "<style scoped>\n",
       "    .dataframe tbody tr th:only-of-type {\n",
       "        vertical-align: middle;\n",
       "    }\n",
       "\n",
       "    .dataframe tbody tr th {\n",
       "        vertical-align: top;\n",
       "    }\n",
       "\n",
       "    .dataframe thead th {\n",
       "        text-align: right;\n",
       "    }\n",
       "</style>\n",
       "<table border=\"1\" class=\"dataframe\">\n",
       "  <thead>\n",
       "    <tr style=\"text-align: right;\">\n",
       "      <th></th>\n",
       "      <th>age</th>\n",
       "      <th>gender</th>\n",
       "      <th>locality</th>\n",
       "      <th>type_of_admission</th>\n",
       "      <th>tl_count</th>\n",
       "      <th>platelet_count</th>\n",
       "      <th>hb_count</th>\n",
       "      <th>glucose</th>\n",
       "      <th>alypical_chest_pain</th>\n",
       "      <th>assistance_needed</th>\n",
       "    </tr>\n",
       "  </thead>\n",
       "  <tbody>\n",
       "    <tr>\n",
       "      <th>0</th>\n",
       "      <td>81</td>\n",
       "      <td>1.0</td>\n",
       "      <td>0.0</td>\n",
       "      <td>0.0</td>\n",
       "      <td>16.1</td>\n",
       "      <td>337.0</td>\n",
       "      <td>9.5</td>\n",
       "      <td>80.0</td>\n",
       "      <td>0.0</td>\n",
       "      <td>1.0</td>\n",
       "    </tr>\n",
       "    <tr>\n",
       "      <th>1</th>\n",
       "      <td>65</td>\n",
       "      <td>1.0</td>\n",
       "      <td>0.0</td>\n",
       "      <td>0.0</td>\n",
       "      <td>9.0</td>\n",
       "      <td>149.0</td>\n",
       "      <td>13.7</td>\n",
       "      <td>112.0</td>\n",
       "      <td>0.0</td>\n",
       "      <td>0.0</td>\n",
       "    </tr>\n",
       "    <tr>\n",
       "      <th>2</th>\n",
       "      <td>53</td>\n",
       "      <td>1.0</td>\n",
       "      <td>1.0</td>\n",
       "      <td>0.0</td>\n",
       "      <td>14.7</td>\n",
       "      <td>329.0</td>\n",
       "      <td>10.6</td>\n",
       "      <td>187.0</td>\n",
       "      <td>0.0</td>\n",
       "      <td>1.0</td>\n",
       "    </tr>\n",
       "    <tr>\n",
       "      <th>3</th>\n",
       "      <td>67</td>\n",
       "      <td>0.0</td>\n",
       "      <td>1.0</td>\n",
       "      <td>0.0</td>\n",
       "      <td>9.9</td>\n",
       "      <td>286.0</td>\n",
       "      <td>12.8</td>\n",
       "      <td>130.0</td>\n",
       "      <td>0.0</td>\n",
       "      <td>0.0</td>\n",
       "    </tr>\n",
       "    <tr>\n",
       "      <th>4</th>\n",
       "      <td>60</td>\n",
       "      <td>0.0</td>\n",
       "      <td>1.0</td>\n",
       "      <td>0.0</td>\n",
       "      <td>9.1</td>\n",
       "      <td>26.0</td>\n",
       "      <td>13.6</td>\n",
       "      <td>144.0</td>\n",
       "      <td>0.0</td>\n",
       "      <td>0.0</td>\n",
       "    </tr>\n",
       "  </tbody>\n",
       "</table>\n",
       "</div>"
      ],
      "text/plain": [
       "   age  gender  locality  type_of_admission  tl_count  platelet_count  \\\n",
       "0   81     1.0       0.0                0.0      16.1           337.0   \n",
       "1   65     1.0       0.0                0.0       9.0           149.0   \n",
       "2   53     1.0       1.0                0.0      14.7           329.0   \n",
       "3   67     0.0       1.0                0.0       9.9           286.0   \n",
       "4   60     0.0       1.0                0.0       9.1            26.0   \n",
       "\n",
       "   hb_count  glucose  alypical_chest_pain  assistance_needed  \n",
       "0       9.5     80.0                  0.0                1.0  \n",
       "1      13.7    112.0                  0.0                0.0  \n",
       "2      10.6    187.0                  0.0                1.0  \n",
       "3      12.8    130.0                  0.0                0.0  \n",
       "4      13.6    144.0                  0.0                0.0  "
      ]
     },
     "execution_count": 40,
     "metadata": {},
     "output_type": "execute_result"
    }
   ],
   "source": [
    "cleaned_df.head()"
   ]
  },
  {
   "cell_type": "code",
   "execution_count": 41,
   "id": "e09c2d8d",
   "metadata": {},
   "outputs": [
    {
     "name": "stderr",
     "output_type": "stream",
     "text": [
      "/var/folders/pn/7648xrwx1vv3z18g2n8dmck80000gn/T/ipykernel_76479/70889764.py:1: SettingWithCopyWarning: \n",
      "A value is trying to be set on a copy of a slice from a DataFrame.\n",
      "Try using .loc[row_indexer,col_indexer] = value instead\n",
      "\n",
      "See the caveats in the documentation: https://pandas.pydata.org/pandas-docs/stable/user_guide/indexing.html#returning-a-view-versus-a-copy\n",
      "  cleaned_df[\"assistance_needed\"]=cleaned_df[\"assistance_needed\"].astype(bool)\n"
     ]
    }
   ],
   "source": [
    "cleaned_df[\"assistance_needed\"]=cleaned_df[\"assistance_needed\"].astype(bool)"
   ]
  },
  {
   "cell_type": "code",
   "execution_count": 42,
   "id": "de7ed388",
   "metadata": {},
   "outputs": [
    {
     "name": "stdout",
     "output_type": "stream",
     "text": [
      "Categories in 'assistance_needed' variable:      [ True False]\n"
     ]
    }
   ],
   "source": [
    "print(\"Categories in 'assistance_needed' variable:     \",end=\" \" )\n",
    "print(cleaned_df[\"assistance_needed\"].unique())"
   ]
  },
  {
   "cell_type": "code",
   "execution_count": 43,
   "id": "67a2bc1d",
   "metadata": {},
   "outputs": [
    {
     "data": {
      "text/html": [
       "<div>\n",
       "<style scoped>\n",
       "    .dataframe tbody tr th:only-of-type {\n",
       "        vertical-align: middle;\n",
       "    }\n",
       "\n",
       "    .dataframe tbody tr th {\n",
       "        vertical-align: top;\n",
       "    }\n",
       "\n",
       "    .dataframe thead th {\n",
       "        text-align: right;\n",
       "    }\n",
       "</style>\n",
       "<table border=\"1\" class=\"dataframe\">\n",
       "  <thead>\n",
       "    <tr style=\"text-align: right;\">\n",
       "      <th></th>\n",
       "      <th>age</th>\n",
       "      <th>gender</th>\n",
       "      <th>locality</th>\n",
       "      <th>type_of_admission</th>\n",
       "      <th>tl_count</th>\n",
       "      <th>platelet_count</th>\n",
       "      <th>hb_count</th>\n",
       "      <th>glucose</th>\n",
       "      <th>alypical_chest_pain</th>\n",
       "      <th>assistance_needed</th>\n",
       "    </tr>\n",
       "  </thead>\n",
       "  <tbody>\n",
       "    <tr>\n",
       "      <th>0</th>\n",
       "      <td>81</td>\n",
       "      <td>1.0</td>\n",
       "      <td>0.0</td>\n",
       "      <td>0.0</td>\n",
       "      <td>16.1</td>\n",
       "      <td>337.0</td>\n",
       "      <td>9.5</td>\n",
       "      <td>80.0</td>\n",
       "      <td>0.0</td>\n",
       "      <td>True</td>\n",
       "    </tr>\n",
       "    <tr>\n",
       "      <th>1</th>\n",
       "      <td>65</td>\n",
       "      <td>1.0</td>\n",
       "      <td>0.0</td>\n",
       "      <td>0.0</td>\n",
       "      <td>9.0</td>\n",
       "      <td>149.0</td>\n",
       "      <td>13.7</td>\n",
       "      <td>112.0</td>\n",
       "      <td>0.0</td>\n",
       "      <td>False</td>\n",
       "    </tr>\n",
       "    <tr>\n",
       "      <th>2</th>\n",
       "      <td>53</td>\n",
       "      <td>1.0</td>\n",
       "      <td>1.0</td>\n",
       "      <td>0.0</td>\n",
       "      <td>14.7</td>\n",
       "      <td>329.0</td>\n",
       "      <td>10.6</td>\n",
       "      <td>187.0</td>\n",
       "      <td>0.0</td>\n",
       "      <td>True</td>\n",
       "    </tr>\n",
       "    <tr>\n",
       "      <th>3</th>\n",
       "      <td>67</td>\n",
       "      <td>0.0</td>\n",
       "      <td>1.0</td>\n",
       "      <td>0.0</td>\n",
       "      <td>9.9</td>\n",
       "      <td>286.0</td>\n",
       "      <td>12.8</td>\n",
       "      <td>130.0</td>\n",
       "      <td>0.0</td>\n",
       "      <td>False</td>\n",
       "    </tr>\n",
       "    <tr>\n",
       "      <th>4</th>\n",
       "      <td>60</td>\n",
       "      <td>0.0</td>\n",
       "      <td>1.0</td>\n",
       "      <td>0.0</td>\n",
       "      <td>9.1</td>\n",
       "      <td>26.0</td>\n",
       "      <td>13.6</td>\n",
       "      <td>144.0</td>\n",
       "      <td>0.0</td>\n",
       "      <td>False</td>\n",
       "    </tr>\n",
       "  </tbody>\n",
       "</table>\n",
       "</div>"
      ],
      "text/plain": [
       "   age  gender  locality  type_of_admission  tl_count  platelet_count  \\\n",
       "0   81     1.0       0.0                0.0      16.1           337.0   \n",
       "1   65     1.0       0.0                0.0       9.0           149.0   \n",
       "2   53     1.0       1.0                0.0      14.7           329.0   \n",
       "3   67     0.0       1.0                0.0       9.9           286.0   \n",
       "4   60     0.0       1.0                0.0       9.1            26.0   \n",
       "\n",
       "   hb_count  glucose  alypical_chest_pain  assistance_needed  \n",
       "0       9.5     80.0                  0.0               True  \n",
       "1      13.7    112.0                  0.0              False  \n",
       "2      10.6    187.0                  0.0               True  \n",
       "3      12.8    130.0                  0.0              False  \n",
       "4      13.6    144.0                  0.0              False  "
      ]
     },
     "execution_count": 43,
     "metadata": {},
     "output_type": "execute_result"
    }
   ],
   "source": [
    "cleaned_df.head()"
   ]
  },
  {
   "cell_type": "code",
   "execution_count": 44,
   "id": "d6e74a77",
   "metadata": {},
   "outputs": [
    {
     "data": {
      "text/plain": [
       "age                      int64\n",
       "gender                 float64\n",
       "locality               float64\n",
       "type_of_admission      float64\n",
       "tl_count               float64\n",
       "platelet_count         float64\n",
       "hb_count               float64\n",
       "glucose                float64\n",
       "alypical_chest_pain    float64\n",
       "assistance_needed         bool\n",
       "dtype: object"
      ]
     },
     "execution_count": 44,
     "metadata": {},
     "output_type": "execute_result"
    }
   ],
   "source": [
    "cleaned_df.dtypes"
   ]
  },
  {
   "cell_type": "code",
   "execution_count": 45,
   "id": "0e971874",
   "metadata": {},
   "outputs": [],
   "source": [
    "from sklearn.model_selection import train_test_split\n",
    "X = cleaned_df.drop('assistance_needed',axis=1)\n",
    "y = cleaned_df['assistance_needed']\n",
    "X_train, X_test, y_train, y_test = train_test_split(X, y, test_size=0.2, random_state=42)"
   ]
  },
  {
   "cell_type": "code",
   "execution_count": 46,
   "id": "f934ccd4",
   "metadata": {},
   "outputs": [],
   "source": [
    "def evaluate_model(true, predicted):\n",
    "    accuracy = accuracy_score(y_test, y_pred)\n",
    "    f1 = f1_score(y_test, y_pred)\n",
    "    return accuracy, f1"
   ]
  },
  {
   "cell_type": "code",
   "execution_count": 49,
   "id": "a5651ef7",
   "metadata": {},
   "outputs": [
    {
     "name": "stdout",
     "output_type": "stream",
     "text": [
      "                 Model  Train Accuracy  Test Accuracy  Train F1   Test F1\n",
      "0  Logistic Regression        0.999198       0.997251  0.998976  0.996571\n",
      "1        Decision Tree        1.000000       1.000000  1.000000  1.000000\n",
      "2        Random Forest        0.999771       0.998168  0.999708  0.997717\n",
      "3                  SVM        0.999313       0.997710  0.999123  0.997144\n",
      "4                  KNN        0.801283       0.677050  0.722711  0.547787\n"
     ]
    }
   ],
   "source": [
    "import pandas as pd\n",
    "from sklearn.datasets import make_classification\n",
    "from sklearn.model_selection import train_test_split\n",
    "from sklearn.metrics import accuracy_score, f1_score\n",
    "from sklearn.tree import DecisionTreeClassifier\n",
    "from sklearn.ensemble import AdaBoostClassifier, RandomForestClassifier\n",
    "from sklearn.svm import SVC\n",
    "from sklearn.neighbors import KNeighborsClassifier\n",
    "\n",
    "base_estimator = DecisionTreeClassifier(max_depth=1)\n",
    "\n",
    "# Initialize classifiers\n",
    "classifiers = {\n",
    "    \"Logistic Regression\": LogisticRegression(max_iter=1000),\n",
    "    \"Decision Tree\": DecisionTreeClassifier(max_depth=5),\n",
    "    \"Random Forest\": RandomForestClassifier(max_depth=5),\n",
    "    \"SVM\": SVC(kernel='linear', probability=True),\n",
    "    \"KNN\": KNeighborsClassifier(n_neighbors=5)\n",
    "}\n",
    "\n",
    "# Train and evaluate each classifier\n",
    "results = []\n",
    "for name, clf in classifiers.items():\n",
    "    # Train\n",
    "    clf.fit(X_train, y_train)\n",
    "    y_train_pred = clf.predict(X_train)\n",
    "    train_accuracy = accuracy_score(y_train, y_train_pred)\n",
    "    train_f1 = f1_score(y_train, y_train_pred)\n",
    "    \n",
    "    # Test\n",
    "    y_test_pred = clf.predict(X_test)\n",
    "    test_accuracy = accuracy_score(y_test, y_test_pred)\n",
    "    test_f1 = f1_score(y_test, y_test_pred)\n",
    "    \n",
    "    results.append((name, train_accuracy, test_accuracy, train_f1, test_f1))\n",
    "\n",
    "# Convert results to DataFrame\n",
    "results_df = pd.DataFrame(results, columns=['Model', 'Train Accuracy', 'Test Accuracy', 'Train F1', 'Test F1'])\n",
    "\n",
    "print(results_df)\n"
   ]
  },
  {
   "cell_type": "code",
   "execution_count": 50,
   "id": "b72f37bc",
   "metadata": {},
   "outputs": [
    {
     "name": "stdout",
     "output_type": "stream",
     "text": [
      " Accuracy of the model is 99.73\n"
     ]
    }
   ],
   "source": [
    "final_model = LogisticRegression(max_iter=1000)\n",
    "final_model = final_model.fit(X_train, y_train)\n",
    "y_pred = final_model.predict(X_test)\n",
    "score = accuracy_score(y_test, y_pred)*100\n",
    "print(\" Accuracy of the model is %.2f\" %score)"
   ]
  },
  {
   "cell_type": "code",
   "execution_count": 51,
   "id": "d3695682",
   "metadata": {},
   "outputs": [
    {
     "data": {
      "image/png": "[encoded data removed]",
      "text/plain": [
       "<Figure size 640x480 with 2 Axes>"
      ]
     },
     "metadata": {},
     "output_type": "display_data"
    },
    {
     "data": {
      "image/png": "[encoded data removed]",
      "text/plain": [
       "<Figure size 640x480 with 1 Axes>"
      ]
     },
     "metadata": {},
     "output_type": "display_data"
    }
   ],
   "source": [
    "from sklearn.metrics import confusion_matrix, roc_curve, auc\n",
    "\n",
    "# Confusion Matrix\n",
    "cm = confusion_matrix(y_test,y_pred)\n",
    "sns.heatmap(cm, annot=True, fmt=\"d\")\n",
    "plt.xlabel('Predicted')\n",
    "plt.ylabel('Actual')\n",
    "plt.title('Confusion Matrix')\n",
    "plt.show()\n",
    "# ROC Curve\n",
    "fpr, tpr, thresholds = roc_curve(y_test, y_pred)\n",
    "roc_auc = auc(fpr, tpr)\n",
    "plt.figure()\n",
    "lw = 2\n",
    "plt.plot(fpr, tpr, color='darkorange', lw=lw, label='ROC curve (area = %0.2f)' % roc_auc)\n",
    "plt.plot([0, 1], [0, 1], color='navy', lw=lw, linestyle='--')\n",
    "plt.xlim([0.0, 1.0])\n",
    "plt.ylim([0.0, 1.05])\n",
    "plt.xlabel('False Positive Rate')\n",
    "plt.ylabel('True Positive Rate')\n",
    "plt.title('Receiver Operating Characteristic')\n",
    "plt.legend(loc=\"lower right\")\n",
    "plt.show()"
   ]
  },
  {
   "cell_type": "code",
   "execution_count": null,
   "id": "ff358897",
   "metadata": {},
   "outputs": [],
   "source": []
  }
 ],
 "metadata": {
  "kernelspec": {
   "display_name": "Python 3 (ipykernel)",
   "language": "python",
   "name": "python3"
  },
  "language_info": {
   "codemirror_mode": {
    "name": "ipython",
    "version": 3
   },
   "file_extension": ".py",
   "mimetype": "text/x-python",
   "name": "python",
   "nbconvert_exporter": "python",
   "pygments_lexer": "ipython3",
   "version": "3.11.0"
  }
 },
 "nbformat": 4,
 "nbformat_minor": 5
}
